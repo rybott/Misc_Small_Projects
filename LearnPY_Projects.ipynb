{
  "nbformat": 4,
  "nbformat_minor": 0,
  "metadata": {
    "colab": {
      "provenance": [],
      "collapsed_sections": [
        "d756a-MLTXkH",
        "0Ncrz4GqX3MH"
      ],
      "toc_visible": true,
      "authorship_tag": "ABX9TyOQm3tlHZkwn0h23f+RidgC",
      "include_colab_link": true
    },
    "kernelspec": {
      "name": "python3",
      "display_name": "Python 3"
    },
    "language_info": {
      "name": "python"
    }
  },
  "cells": [
    {
      "cell_type": "markdown",
      "metadata": {
        "id": "view-in-github",
        "colab_type": "text"
      },
      "source": [
        "<a href=\"https://colab.research.google.com/github/rybott/Misc_Small_Projects/blob/main/LearnPY_Projects.ipynb\" target=\"_parent\"><img src=\"https://colab.research.google.com/assets/colab-badge.svg\" alt=\"Open In Colab\"/></a>"
      ]
    },
    {
      "cell_type": "markdown",
      "source": [
        "# 12 Projects given my Chat GPT"
      ],
      "metadata": {
        "id": "dwmNzzVZRKWe"
      }
    },
    {
      "cell_type": "markdown",
      "source": [
        "## Calculator"
      ],
      "metadata": {
        "id": "IOd0GEVGRJzX"
      }
    },
    {
      "cell_type": "markdown",
      "source": [
        "### Things to remeber\n",
        "- input() function produces a string and must be converted\n",
        "- else's do not have a condition\n",
        "\n",
        "### Things I learned\n",
        "- Functions\n",
        "- Elif"
      ],
      "metadata": {
        "id": "fW81AHZ_RVIm"
      }
    },
    {
      "cell_type": "markdown",
      "source": [
        "### Calculator Code for In terminal Use\n"
      ],
      "metadata": {
        "id": "d756a-MLTXkH"
      }
    },
    {
      "cell_type": "code",
      "execution_count": 1,
      "metadata": {
        "id": "F_rA3dKvGL_g",
        "colab": {
          "base_uri": "https://localhost:8080/",
          "height": 406
        },
        "outputId": "dd42afe1-d881-4557-e2bb-4cfbae6afc37"
      },
      "outputs": [
        {
          "output_type": "error",
          "ename": "KeyboardInterrupt",
          "evalue": "ignored",
          "traceback": [
            "\u001b[0;31m---------------------------------------------------------------------------\u001b[0m",
            "\u001b[0;31mKeyboardInterrupt\u001b[0m                         Traceback (most recent call last)",
            "\u001b[0;32m<ipython-input-1-099a9c4fa375>\u001b[0m in \u001b[0;36m<cell line: 20>\u001b[0;34m()\u001b[0m\n\u001b[1;32m     18\u001b[0m   \u001b[0;32mreturn\u001b[0m \u001b[0moutput\u001b[0m\u001b[0;34m\u001b[0m\u001b[0;34m\u001b[0m\u001b[0m\n\u001b[1;32m     19\u001b[0m \u001b[0;34m\u001b[0m\u001b[0m\n\u001b[0;32m---> 20\u001b[0;31m \u001b[0minput1\u001b[0m \u001b[0;34m=\u001b[0m \u001b[0mint\u001b[0m\u001b[0;34m(\u001b[0m\u001b[0minput\u001b[0m\u001b[0;34m(\u001b[0m\u001b[0;34m\"Enter your first Number\"\u001b[0m\u001b[0;34m)\u001b[0m\u001b[0;34m)\u001b[0m\u001b[0;34m\u001b[0m\u001b[0;34m\u001b[0m\u001b[0m\n\u001b[0m\u001b[1;32m     21\u001b[0m \u001b[0;34m\u001b[0m\u001b[0m\n\u001b[1;32m     22\u001b[0m \u001b[0mx\u001b[0m \u001b[0;34m=\u001b[0m \u001b[0;36m1\u001b[0m\u001b[0;34m\u001b[0m\u001b[0;34m\u001b[0m\u001b[0m\n",
            "\u001b[0;32m/usr/local/lib/python3.10/dist-packages/ipykernel/kernelbase.py\u001b[0m in \u001b[0;36mraw_input\u001b[0;34m(self, prompt)\u001b[0m\n\u001b[1;32m    849\u001b[0m                 \u001b[0;34m\"raw_input was called, but this frontend does not support input requests.\"\u001b[0m\u001b[0;34m\u001b[0m\u001b[0;34m\u001b[0m\u001b[0m\n\u001b[1;32m    850\u001b[0m             )\n\u001b[0;32m--> 851\u001b[0;31m         return self._input_request(str(prompt),\n\u001b[0m\u001b[1;32m    852\u001b[0m             \u001b[0mself\u001b[0m\u001b[0;34m.\u001b[0m\u001b[0m_parent_ident\u001b[0m\u001b[0;34m,\u001b[0m\u001b[0;34m\u001b[0m\u001b[0;34m\u001b[0m\u001b[0m\n\u001b[1;32m    853\u001b[0m             \u001b[0mself\u001b[0m\u001b[0;34m.\u001b[0m\u001b[0m_parent_header\u001b[0m\u001b[0;34m,\u001b[0m\u001b[0;34m\u001b[0m\u001b[0;34m\u001b[0m\u001b[0m\n",
            "\u001b[0;32m/usr/local/lib/python3.10/dist-packages/ipykernel/kernelbase.py\u001b[0m in \u001b[0;36m_input_request\u001b[0;34m(self, prompt, ident, parent, password)\u001b[0m\n\u001b[1;32m    893\u001b[0m             \u001b[0;32mexcept\u001b[0m \u001b[0mKeyboardInterrupt\u001b[0m\u001b[0;34m:\u001b[0m\u001b[0;34m\u001b[0m\u001b[0;34m\u001b[0m\u001b[0m\n\u001b[1;32m    894\u001b[0m                 \u001b[0;31m# re-raise KeyboardInterrupt, to truncate traceback\u001b[0m\u001b[0;34m\u001b[0m\u001b[0;34m\u001b[0m\u001b[0m\n\u001b[0;32m--> 895\u001b[0;31m                 \u001b[0;32mraise\u001b[0m \u001b[0mKeyboardInterrupt\u001b[0m\u001b[0;34m(\u001b[0m\u001b[0;34m\"Interrupted by user\"\u001b[0m\u001b[0;34m)\u001b[0m \u001b[0;32mfrom\u001b[0m \u001b[0;32mNone\u001b[0m\u001b[0;34m\u001b[0m\u001b[0;34m\u001b[0m\u001b[0m\n\u001b[0m\u001b[1;32m    896\u001b[0m             \u001b[0;32mexcept\u001b[0m \u001b[0mException\u001b[0m \u001b[0;32mas\u001b[0m \u001b[0me\u001b[0m\u001b[0;34m:\u001b[0m\u001b[0;34m\u001b[0m\u001b[0;34m\u001b[0m\u001b[0m\n\u001b[1;32m    897\u001b[0m                 \u001b[0mself\u001b[0m\u001b[0;34m.\u001b[0m\u001b[0mlog\u001b[0m\u001b[0;34m.\u001b[0m\u001b[0mwarning\u001b[0m\u001b[0;34m(\u001b[0m\u001b[0;34m\"Invalid Message:\"\u001b[0m\u001b[0;34m,\u001b[0m \u001b[0mexc_info\u001b[0m\u001b[0;34m=\u001b[0m\u001b[0;32mTrue\u001b[0m\u001b[0;34m)\u001b[0m\u001b[0;34m\u001b[0m\u001b[0;34m\u001b[0m\u001b[0m\n",
            "\u001b[0;31mKeyboardInterrupt\u001b[0m: Interrupted by user"
          ]
        }
      ],
      "source": [
        "def add(input1,input2):\n",
        "  output = input1 + input2\n",
        "  return output\n",
        "def sub(input1,input2):\n",
        "  output = input1 - input2\n",
        "  return output\n",
        "def mul(input1,input2):\n",
        "  output = input1 * input2\n",
        "  return output\n",
        "def div(input1,input2):\n",
        "  output = input1 / input2\n",
        "  return output\n",
        "def exp(input1,input2):\n",
        "  output = input1 ** input2\n",
        "  return output\n",
        "def root(input1):\n",
        "  output = input1 ** .5\n",
        "  return output\n",
        "\n",
        "input1 = int(input(\"Enter your first Number\"))\n",
        "\n",
        "x = 1\n",
        "\n",
        "while x == 1:\n",
        "  op = input(\"Enter operation (add,sub,mul,div,exp,root):\")\n",
        "  if op !=\"root\":\n",
        "    input2 = int(input(\"second number/power:\"))\n",
        "\n",
        "  if op == \"root\":\n",
        "    input1 = root(input1)\n",
        "    print(input1)\n",
        "  elif op == \"add\":\n",
        "    input1 = add(input1,input2)\n",
        "    print(input1)\n",
        "  elif op == \"mul\":\n",
        "    input1 = mul(input1,input2)\n",
        "    print(input1)\n",
        "  elif op == \"div\":\n",
        "    input1 = div(input1,input2)\n",
        "    print(input1)\n",
        "  else: #Exp\n",
        "    input1 = exp(input1,input2)\n",
        "    print(input1)\n",
        "\n",
        "\n"
      ]
    },
    {
      "cell_type": "markdown",
      "source": [
        "### Things to remeber\n",
        "\n",
        "### Things I learned\n"
      ],
      "metadata": {
        "id": "qXamDmM6YAXg"
      }
    },
    {
      "cell_type": "markdown",
      "source": [
        "## Random Number Guessing Game in terminal"
      ],
      "metadata": {
        "id": "0Ncrz4GqX3MH"
      }
    },
    {
      "cell_type": "code",
      "source": [
        "import random\n",
        "\n",
        "answer = random.randrange(1,100)\n",
        "\n",
        "print(\"This is a guessing game, try to get the number before the time runs out \\n\")\n",
        "\n",
        "guess = 0\n",
        "x = 0\n",
        "highscore = 1000000\n",
        "keep_going = True\n",
        "\n",
        "while keep_going == True:\n",
        "  while guess != answer:\n",
        "    guess = int(input(\"Make your guess\"))\n",
        "    if guess > answer:\n",
        "      print(\"Too high\")\n",
        "    elif guess < answer:\n",
        "      print(\"Too low\")\n",
        "    else:\n",
        "      pass\n",
        "    x += 1\n",
        "\n",
        "  print(f\"Congrats it only took you {x} tries\")\n",
        "\n",
        "  if x < highscore:\n",
        "    highscore = x\n",
        "  else:\n",
        "    pass\n",
        "\n",
        "  print(f\"Your best score is {highscore}\")\n",
        "\n",
        "  repeat = input(\"Play Again? (Y/N): \").upper()\n",
        "  if repeat == \"Y\":\n",
        "    guess = 0\n",
        "    answer = random.randrange(1,100)\n",
        "  else:\n",
        "    keep_going = False"
      ],
      "metadata": {
        "id": "RTSwDT9rX60v"
      },
      "execution_count": null,
      "outputs": []
    }
  ]
}